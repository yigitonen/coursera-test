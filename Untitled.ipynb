{
 "cells": [
  {
   "cell_type": "markdown",
   "id": "24e50c8c-63fe-4a08-acb4-574561a13e45",
   "metadata": {},
   "source": [
    "JUPYTER LAB WORK"
   ]
  },
  {
   "cell_type": "markdown",
   "id": "7d3a001e-c119-4292-baaf-4317bbff38d4",
   "metadata": {},
   "source": [
    "INTRODUCTION"
   ]
  },
  {
   "cell_type": "markdown",
   "id": "08ecebff-4dcf-4d12-bc9e-2af1d4a86a2a",
   "metadata": {},
   "source": [
    "Python\n",
    "SQL\n",
    "R\n",
    "Julia\n",
    "JavaScript"
   ]
  },
  {
   "cell_type": "markdown",
   "id": "5688b08c-335e-420d-999f-eeeae50d82ff",
   "metadata": {},
   "source": [
    "Pandas\n",
    "Numpy\n",
    "PlotLib"
   ]
  },
  {
   "cell_type": "markdown",
   "id": "93bec778-cb94-428f-a037-451060f9c968",
   "metadata": {
    "tags": []
   },
   "source": [
    "RStudio\n",
    "Jupyter\n",
    "GitHub\n",
    "Excel"
   ]
  },
  {
   "cell_type": "markdown",
   "id": "13bd873e-6ae2-4b21-9b3f-75a60724bc21",
   "metadata": {},
   "source": [
    "5*2+7"
   ]
  },
  {
   "cell_type": "code",
   "execution_count": 2,
   "id": "4b442d44-7393-4168-a3ba-08ecddf9d602",
   "metadata": {
    "tags": []
   },
   "outputs": [
    {
     "data": {
      "text/plain": [
       "116"
      ]
     },
     "execution_count": 2,
     "metadata": {},
     "output_type": "execute_result"
    }
   ],
   "source": [
    "9**2 + 8*4 + 3"
   ]
  },
  {
   "cell_type": "code",
   "execution_count": 4,
   "id": "4f827e5e-c716-4f1b-bd38-aa02cc0ee56d",
   "metadata": {
    "tags": []
   },
   "outputs": [
    {
     "name": "stdout",
     "output_type": "stream",
     "text": [
      "300\n"
     ]
    }
   ],
   "source": [
    "hours=5\n",
    "mins = hours * 60\n",
    "print(mins)"
   ]
  },
  {
   "cell_type": "markdown",
   "id": "a9e876e5-4e77-4179-9b04-1ebcd20db573",
   "metadata": {},
   "source": [
    "Objectives"
   ]
  },
  {
   "cell_type": "markdown",
   "id": "25da6b8e-a2d6-4926-be74-883f2748e181",
   "metadata": {},
   "source": [
    "Mustafa Yiğit Önen"
   ]
  },
  {
   "cell_type": "code",
   "execution_count": null,
   "id": "54db66c5-f0a8-4cd9-8275-384bffa34b10",
   "metadata": {},
   "outputs": [],
   "source": []
  }
 ],
 "metadata": {
  "kernelspec": {
   "display_name": "Python 3 (ipykernel)",
   "language": "python",
   "name": "python3"
  },
  "language_info": {
   "codemirror_mode": {
    "name": "ipython",
    "version": 3
   },
   "file_extension": ".py",
   "mimetype": "text/x-python",
   "name": "python",
   "nbconvert_exporter": "python",
   "pygments_lexer": "ipython3",
   "version": "3.11.5"
  }
 },
 "nbformat": 4,
 "nbformat_minor": 5
}
